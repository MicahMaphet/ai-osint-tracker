{
 "cells": [
  {
   "cell_type": "code",
   "execution_count": null,
   "id": "f1959a3a",
   "metadata": {},
   "outputs": [],
   "source": [
    "url = f'https://sfs-msc-pub-lq-05.navigator.dot.ga.gov/rtplive/GDOT-CCTV-0563/playlist.m3u8'\n",
    "url"
   ]
  },
  {
   "cell_type": "code",
   "execution_count": null,
   "id": "60050446",
   "metadata": {},
   "outputs": [],
   "source": [
    "from urllib.parse import urljoin\n",
    "import urllib.request\n",
    "import requests\n",
    "import re\n",
    "import urllib\n",
    "from pathlib import Path\n",
    "import subprocess\n",
    "import time\n",
    "import os\n",
    "from os import path\n",
    "\n",
    "\n",
    "while True:\n",
    "    num = urljoin(url, '.')[-3:-1]\n",
    "    Path(f'rawmedia/{num}/').mkdir(exist_ok=True, parents=True)\n",
    "    Path(f'media/{num}/').mkdir(exist_ok=True, parents=True)\n",
    "\n",
    "    file_ids = [f[f.rfind('_')+1:-3] for f in os.listdir(f'rawmedia/{num}') if path.isfile(path.join(f'rawmedia/{num}', f))]\n",
    "\n",
    "    base_url = url[:url.rfind('/') + 1]\n",
    "    playlist = requests.get(url).text\n",
    "    file_name = re.findall(r'chunklist_w.*?\\.m3u8', playlist)\n",
    "    if (len(file_name) == 0):\n",
    "        exit()\n",
    "    file_name = file_name[-1]\n",
    "    chunklist_url = base_url + file_name\n",
    "    chunklist = requests.get(chunklist_url).text\n",
    "    media_files = re.findall(r'media_w.*?\\.ts', chunklist)\n",
    "    media_concat = 'concat:'\n",
    "    for media_file in media_files:\n",
    "        if media_file[media_file.rfind('_')+1:-3] in file_ids:\n",
    "            print('s', end='')\n",
    "            continue\n",
    "        print(f'downloading {media_file}')\n",
    "        urllib.request.urlretrieve(base_url + media_file, f'rawmedia/{num}/{media_file}')\n",
    "        subprocess.run(['ffmpeg', '-i', \n",
    "                        f'rawmedia/{num}/{media_file}', \n",
    "                        f'media/{num}/media{len(os.listdir(f'media/{num}'))}.mp4'])\n",
    "    time.sleep(3)\n",
    "\n"
   ]
  }
 ],
 "metadata": {
  "kernelspec": {
   "display_name": ".venv",
   "language": "python",
   "name": "python3"
  },
  "language_info": {
   "codemirror_mode": {
    "name": "ipython",
    "version": 3
   },
   "file_extension": ".py",
   "mimetype": "text/x-python",
   "name": "python",
   "nbconvert_exporter": "python",
   "pygments_lexer": "ipython3",
   "version": "3.12.3"
  }
 },
 "nbformat": 4,
 "nbformat_minor": 5
}
