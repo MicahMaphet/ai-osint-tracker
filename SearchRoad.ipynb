{
 "cells": [
  {
   "cell_type": "code",
   "execution_count": 1,
   "id": "781462d7",
   "metadata": {},
   "outputs": [],
   "source": [
    "from selenium import webdriver\n",
    "\n",
    "driver = webdriver.Chrome()\n",
    "\n",
    "driver.get('https://511ga.org/cctv')"
   ]
  },
  {
   "cell_type": "code",
   "execution_count": 29,
   "id": "4039fcad",
   "metadata": {},
   "outputs": [],
   "source": [
    "from selenium.webdriver.common.by import By\n",
    "dropdowns = driver.find_elements(By.CLASS_NAME, 'dropdown-toggle')"
   ]
  },
  {
   "cell_type": "code",
   "execution_count": 30,
   "id": "5a498005",
   "metadata": {},
   "outputs": [],
   "source": [
    "dropdown = None\n",
    "for k in dropdowns:\n",
    "    if (k.text.lower().strip() == 'none selected'):\n",
    "        dropdown = k\n",
    "        break\n",
    "assert(dropdown is not None)\n",
    "\n",
    "dropdown.click()"
   ]
  },
  {
   "cell_type": "code",
   "execution_count": null,
   "id": "331755ae",
   "metadata": {},
   "outputs": [],
   "source": [
    "from selenium.webdriver import ActionChains, Keys\n",
    "roadname = ''\n",
    "\n",
    "ActionChains(driver)\\\n",
    "    .send_keys(roadname, Keys.ENTER)\\\n",
    "    .perform()\n"
   ]
  }
 ],
 "metadata": {
  "kernelspec": {
   "display_name": ".venv",
   "language": "python",
   "name": "python3"
  },
  "language_info": {
   "codemirror_mode": {
    "name": "ipython",
    "version": 3
   },
   "file_extension": ".py",
   "mimetype": "text/x-python",
   "name": "python",
   "nbconvert_exporter": "python",
   "pygments_lexer": "ipython3",
   "version": "3.12.3"
  }
 },
 "nbformat": 4,
 "nbformat_minor": 5
}
