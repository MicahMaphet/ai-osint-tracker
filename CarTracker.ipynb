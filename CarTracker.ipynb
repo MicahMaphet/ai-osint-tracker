{
 "cells": [
  {
   "cell_type": "code",
   "execution_count": null,
   "id": "ef3a5a20",
   "metadata": {},
   "outputs": [],
   "source": [
    "import cv2\n",
    "from tqdm import tqdm\n",
    "import os\n",
    "from pathlib import Path\n",
    "\n",
    "cap = cv2.VideoCapture(\"media.mp4\")\n",
    "fps = cap.get(cv2.CAP_PROP_FPS)\n",
    "\n",
    "total_frames = int(cap.get(cv2.CAP_PROP_FRAME_COUNT))\n",
    "\n",
    "saved_frame_count = 0\n",
    "\n",
    "frames_output_folder = \"trackedmedia/rawintermediate\"\n",
    "Path(frames_output_folder).mkdir(exist_ok=True, parents=True)\n",
    "for frame_id in tqdm(range(total_frames), desc=\"Unpacking video\"):\n",
    "    ret, frame = cap.read()\n",
    "    if not ret:\n",
    "        break\n",
    "\n",
    "    if frame_id % 1 == 0:\n",
    "        frame_path = os.path.join(\n",
    "            frames_output_folder, f\"frame{saved_frame_count:04d}.png\")\n",
    "\n",
    "        is_success, im_buf_arr = cv2.imencode(\".jpg\", frame)\n",
    "        im_buf_arr.tofile(frame_path)\n",
    "\n",
    "        saved_frame_count += 1\n",
    "cap.release()\n",
    "print(f\"Extracted {saved_frame_count} frames\")"
   ]
  },
  {
   "cell_type": "code",
   "execution_count": null,
   "id": "7eb4396d",
   "metadata": {},
   "outputs": [],
   "source": [
    "from transformers import AutoImageProcessor, DetrForObjectDetection\n",
    "\n",
    "image_processor = AutoImageProcessor.from_pretrained(\"facebook/detr-resnet-50\")\n",
    "model = DetrForObjectDetection.from_pretrained(\"facebook/detr-resnet-50\")"
   ]
  },
  {
   "cell_type": "code",
   "execution_count": null,
   "id": "b49783ca",
   "metadata": {},
   "outputs": [],
   "source": [
    "import os\n",
    "import torch\n",
    "from torchvision.io import read_image\n",
    "from torchvision.utils import draw_bounding_boxes, save_image\n",
    "from PIL import Image\n",
    "\n",
    "frames = os.listdir(frames_output_folder)\n",
    "total_frames = len(frames)\n",
    "\n",
    "tracked_frames_folder = 'trackedmedia/intermediate/'\n",
    "Path(tracked_frames_folder).mkdir(exist_ok=True, parents=True)\n",
    "for i in tqdm(range(total_frames), desc=\"Scanning frames for cars\"):\n",
    "    frame = f'{frames_output_folder}/frame{f'{i + 10000}'[1:]}.png'\n",
    "\n",
    "    image = Image.open(frame).convert(\"RGB\")\n",
    "\n",
    "    inputs = image_processor(images=image, return_tensors=\"pt\")\n",
    "    outputs = model(**inputs)\n",
    "\n",
    "    target_sizes = torch.tensor([image.size[::-1]])\n",
    "    results = image_processor.post_process_object_detection(outputs, threshold=0.9, target_sizes=target_sizes)[\n",
    "        0\n",
    "    ]\n",
    "\n",
    "    image = read_image(frame)\n",
    "    image = (255.0 * (image - image.min()) / (image.max() - image.min())).to(torch.uint8)\n",
    "    image = image[:3, ...]\n",
    "    pred_boxes = results[\"boxes\"].long()\n",
    "    labels = [f\"{model.config.id2label[label.item()]}: {score} \" for label, score in zip(results[\"labels\"], results[\"scores\"])]\n",
    "    output_image = draw_bounding_boxes(image, pred_boxes, labels, colors=\"red\")\n",
    "    save_image(output_image / 255, f\"{tracked_frames_folder}/frame{f'{10000 + i}'[1:]}.png\")\n"
   ]
  },
  {
   "cell_type": "code",
   "execution_count": null,
   "id": "64fd7c3d",
   "metadata": {},
   "outputs": [],
   "source": [
    "import numpy as np\n",
    "import subprocess\n",
    "\n",
    "intermediate_file = \"intermediate.mp4\"\n",
    "dims = Image.open(f'{frames_output_folder}/frame0000.png').size\n",
    "if os.path.exists(intermediate_file):\n",
    "    os.remove(intermediate_file)\n",
    "vidwriter = cv2.VideoWriter(intermediate_file, cv2.VideoWriter_fourcc(*\"mp4v\"), fps, dims)\n",
    "\n",
    "total_frames = len(os.listdir(tracked_frames_folder))\n",
    "for i in tqdm(range(total_frames), desc=\"Assembly frames into video\"):\n",
    "    frame = Image.open(f'{tracked_frames_folder}/frame{f'{10000 + i}'[1:]}.png')\n",
    "    vidwriter.write(np.asarray(frame))\n",
    "vidwriter.release()\n",
    "\n",
    "if os.path.exists(\"trackedmedia.mp4\"):\n",
    "    os.remove(\"trackedmedia.mp4\")\n",
    "# the media is corrupt in curtain file editors for whatever reason, running it through ffmpeg fixes this\n",
    "subprocess.run([\"ffmpeg\", \"-i\", intermediate_file, \"trackedmedia.mp4\"])\n",
    "os.remove(intermediate_file)"
   ]
  }
 ],
 "metadata": {
  "kernelspec": {
   "display_name": ".venv",
   "language": "python",
   "name": "python3"
  },
  "language_info": {
   "codemirror_mode": {
    "name": "ipython",
    "version": 3
   },
   "file_extension": ".py",
   "mimetype": "text/x-python",
   "name": "python",
   "nbconvert_exporter": "python",
   "pygments_lexer": "ipython3",
   "version": "3.12.3"
  }
 },
 "nbformat": 4,
 "nbformat_minor": 5
}
