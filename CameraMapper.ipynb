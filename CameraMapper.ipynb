{
 "cells": [
  {
   "cell_type": "code",
   "execution_count": null,
   "id": "ad49cdd2",
   "metadata": {},
   "outputs": [],
   "source": [
    "import cv2\n",
    "\n",
    "camera_img = cv2.imread(\"image1.png\")\n",
    "map_img = cv2.imread(\"image2.png\")\n",
    "\n",
    "gray1 = cv2.cvtColor(camera_img, cv2.COLOR_BGRA2GRAY)\n",
    "gray2 = cv2.cvtColor(map_img, cv2.COLOR_BGRA2GRAY)\n"
   ]
  },
  {
   "cell_type": "code",
   "execution_count": null,
   "id": "65c079aa",
   "metadata": {},
   "outputs": [],
   "source": [
    "orb = cv2.ORB_create()\n",
    "\n",
    "kp1, des1 = orb.detectAndCompute(gray1, None)\n",
    "kp2, des2 = orb.detectAndCompute(gray2, None)\n",
    "\n",
    "bf = cv2.BFMatcher(cv2.NORM_HAMMING, crossCheck=True)\n",
    "matches = bf.match(des1, des2)\n",
    "\n",
    "matches = sorted(matches, key=lambda x: x.distance)"
   ]
  },
  {
   "cell_type": "code",
   "execution_count": null,
   "id": "1c07cf56",
   "metadata": {},
   "outputs": [],
   "source": [
    "import matplotlib.pyplot as plot\n",
    "\n",
    "img_matches = cv2.drawMatches(camera_img, kp1, map_img, kp2, matches[:50], None, \n",
    "                              flags=cv2.DRAW_MATCHES_FLAGS_NOT_DRAW_SINGLE_POINTS)\n",
    "\n",
    "plot.imshow(img_matches)\n",
    "plot.show()"
   ]
  },
  {
   "cell_type": "code",
   "execution_count": null,
   "id": "dc04ac42",
   "metadata": {},
   "outputs": [],
   "source": [
    "cv2.imwrite('matches.jpg', img_matches)"
   ]
  },
  {
   "cell_type": "code",
   "execution_count": null,
   "id": "5dcc9336",
   "metadata": {},
   "outputs": [],
   "source": [
    "import numpy as np\n",
    "pt1 = np.float32([kp1[m.queryIdx].pt for m in matches]).reshape(-1, 1, 2)\n",
    "pt2 = np.float32([kp2[m.trainIdx].pt for m in matches]).reshape(-1, 1, 2)\n",
    "\n",
    "H, mask = cv2.findHomography(pt1, pt2, cv2.RANSAC, 5.0)\n",
    "\n",
    "height, width, _ = map_img.shape\n",
    "img_aligned = cv2.warpPerspective(camera_img, H, (width, height))\n",
    "\n",
    "plot.imshow(img_aligned)\n",
    "plot.show()"
   ]
  }
 ],
 "metadata": {
  "kernelspec": {
   "display_name": ".venv",
   "language": "python",
   "name": "python3"
  },
  "language_info": {
   "codemirror_mode": {
    "name": "ipython",
    "version": 3
   },
   "file_extension": ".py",
   "mimetype": "text/x-python",
   "name": "python",
   "nbconvert_exporter": "python",
   "pygments_lexer": "ipython3",
   "version": "3.12.3"
  }
 },
 "nbformat": 4,
 "nbformat_minor": 5
}
