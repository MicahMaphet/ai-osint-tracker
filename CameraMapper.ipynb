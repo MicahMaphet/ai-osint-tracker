{
 "cells": [
  {
   "cell_type": "code",
   "execution_count": null,
   "id": "ad49cdd2",
   "metadata": {},
   "outputs": [],
   "source": [
    "import cv2\n",
    "import matplotlib.pyplot as plot\n",
    "import numpy as np\n",
    "\n",
    "camera_img = cv2.imread(\"X.png\")\n",
    "map_img = cv2.imread(\"Xmap.png\")\n",
    "\n",
    "gray1 = cv2.cvtColor(camera_img, cv2.COLOR_BGRA2GRAY)\n",
    "gray2 = cv2.cvtColor(map_img, cv2.COLOR_BGRA2GRAY)\n"
   ]
  },
  {
   "cell_type": "code",
   "execution_count": null,
   "id": "65c079aa",
   "metadata": {},
   "outputs": [],
   "source": [
    "# Use orb algorithm to find features, have not have success with this\n",
    "orb = cv2.ORB_create()\n",
    "\n",
    "kp1, des1 = orb.detectAndCompute(gray1, None)\n",
    "kp2, des2 = orb.detectAndCompute(gray2, None)\n",
    "\n",
    "bf = cv2.BFMatcher(cv2.NORM_HAMMING, crossCheck=True)\n",
    "matches = bf.match(des1, des2)\n",
    "\n",
    "matches = sorted(matches, key=lambda x: x.distance)\n"
   ]
  },
  {
   "cell_type": "code",
   "execution_count": null,
   "id": "1c07cf56",
   "metadata": {},
   "outputs": [],
   "source": [
    "img_matches = cv2.drawMatches(camera_img, kp1, map_img, kp2, matches[:10], None, \n",
    "                              flags=cv2.DRAW_MATCHES_FLAGS_NOT_DRAW_SINGLE_POINTS)\n",
    "\n",
    "plot.imshow(img_matches)\n",
    "plot.show()"
   ]
  },
  {
   "cell_type": "code",
   "execution_count": null,
   "id": "5dcc9336",
   "metadata": {},
   "outputs": [],
   "source": [
    "pt1 = np.float32([kp1[m.queryIdx].pt for m in matches]).reshape(-1, 1, 2)\n",
    "pt2 = np.float32([kp2[m.trainIdx].pt for m in matches]).reshape(-1, 1, 2)\n",
    "\n",
    "H, mask = cv2.findHomography(pt1, pt2, cv2.RANSAC, 5.0)\n",
    "\n",
    "img = cv2.imread('archive/imgs/checkerboard.png')\n",
    "height, width, _ = img.shape\n",
    "img_aligned = cv2.warpPerspective(img, H, (width, height))\n",
    "\n",
    "plot.imshow(img_aligned)\n",
    "plot.show()\n"
   ]
  },
  {
   "cell_type": "code",
   "execution_count": null,
   "id": "618d44c7",
   "metadata": {},
   "outputs": [],
   "source": [
    "# Successfully warps camera view of intersection to map view\n",
    "x=0\n",
    "y=0\n",
    "# Define source and destination points\n",
    "srcPoints = np.array([\n",
    "    [55, 159],\n",
    "    [33, 137], \n",
    "    [237, 106], \n",
    "    [276, 118], \n",
    "], dtype=np.float32)\n",
    "dstPoints = np.array([\n",
    "    [709 + x, 257 + y],\n",
    "    [698 + x, 91 + y], \n",
    "    [256 + x, 94 + y], \n",
    "    [256 + x, 246 + y], \n",
    "], dtype=np.float32)\n",
    "\n",
    "# Compute homography matrix\n",
    "H, mask = cv2.findHomography(srcPoints, dstPoints, cv2.RANSAC, 5.0)\n",
    "height, width, _ = map_img.shape\n",
    "\n",
    "img_aligned = cv2.warpPerspective(cv2.imread(\"FRAME.png\"), H, (width, height))\n",
    "\n",
    "plot.imshow(img_aligned)\n",
    "pass"
   ]
  },
  {
   "cell_type": "code",
   "execution_count": null,
   "id": "2465a26f",
   "metadata": {},
   "outputs": [],
   "source": [
    "src = [55, 159]\n",
    "# Internal homography matrix math warping the pixels from camera to map view\n",
    "dest = [(src[0] * H[0][0] + src[1] * H[0][1] + H[0][2])/(src[0] * H[2][0] + src[1] * H[2][1] + H[2][2]),\n",
    "        (src[0] * H[1][0] + src[1] * H[1][1] + H[1][2])/(src[0] * H[2][0] + src[1] * H[2][1] + H[2][2])]\n",
    "\n",
    "dest"
   ]
  },
  {
   "cell_type": "code",
   "execution_count": null,
   "id": "dc04ac42",
   "metadata": {},
   "outputs": [],
   "source": [
    "cv2.imwrite('matches.png', img_matches)"
   ]
  },
  {
   "cell_type": "code",
   "execution_count": null,
   "id": "f2f0cb95",
   "metadata": {},
   "outputs": [],
   "source": [
    "cv2.imwrite('aligned.png', img_aligned)"
   ]
  },
  {
   "cell_type": "code",
   "execution_count": null,
   "id": "c7618355",
   "metadata": {},
   "outputs": [],
   "source": [
    "img = cv2.imread('exit11.png')\n",
    "p1 = [118, 147]\n",
    "\n",
    "height, width, _ = map_img.shape\n",
    "# cv2.circle(m, center=p1, radius=20, color=(255, 0, 0), thickness=-1)\n",
    "img2 = cv2.warpPerspective(camera_img, H, (width*4, height*4))\n",
    "plot.imshow(img2)\n",
    "plot.show()"
   ]
  },
  {
   "cell_type": "code",
   "execution_count": null,
   "id": "7b844f15",
   "metadata": {},
   "outputs": [],
   "source": [
    "match = matches[6]\n",
    "\n",
    "print(match)\n",
    "print(match.distance)\n",
    "print(match.imgIdx)\n",
    "print(match.queryIdx)\n",
    "print(match.trainIdx)\n",
    "print(len(kp1))\n",
    "\n",
    "img_points1 = cv2.drawKeypoints(gray1, kp1, None)\n",
    "\n",
    "plot.imshow(img_points1)\n",
    "plot.show()"
   ]
  },
  {
   "cell_type": "code",
   "execution_count": null,
   "id": "024194b8",
   "metadata": {},
   "outputs": [],
   "source": [
    "import subprocess\n",
    "import os\n",
    "\n",
    "reader = cv2.VideoCapture(\"z.mp4\")\n",
    "total_frames = int(reader.get(cv2.CAP_PROP_FRAME_COUNT))\n",
    "fps = reader.get(cv2.CAP_PROP_FPS)\n",
    "\n",
    "shape = (int(reader.get(cv2.CAP_PROP_FRAME_WIDTH)), int(reader.get(cv2.CAP_PROP_FRAME_HEIGHT)))\n",
    "\n",
    "output_file = \"y.mp4\"\n",
    "intermediate_filemp4 = \"__inter__.mp4\"\n",
    "writer = cv2.VideoWriter(intermediate_filemp4, cv2.VideoWriter_fourcc(*\"mp4v\"), fps, shape)\n",
    "\n",
    "for frameid in range(total_frames):\n",
    "    ret, frame = reader.read()\n",
    "\n",
    "    gray = cv2.cvtColor(frame, cv2.COLOR_BGR2GRAY)\n",
    "    kp, des = orb.detectAndCompute(gray, None)\n",
    "\n",
    "    points = cv2.drawKeypoints(frame, kp, None)\n",
    "    writer.write(points)\n",
    "writer.release()\n",
    "\n",
    "if os.path.exists(output_file):\n",
    "    os.remove(output_file)\n",
    "subprocess.run([\"ffmpeg\", \"-i\", intermediate_filemp4, output_file])\n",
    "os.remove(intermediate_filemp4)\n"
   ]
  }
 ],
 "metadata": {
  "kernelspec": {
   "display_name": ".venv",
   "language": "python",
   "name": "python3"
  },
  "language_info": {
   "codemirror_mode": {
    "name": "ipython",
    "version": 3
   },
   "file_extension": ".py",
   "mimetype": "text/x-python",
   "name": "python",
   "nbconvert_exporter": "python",
   "pygments_lexer": "ipython3",
   "version": "3.12.3"
  }
 },
 "nbformat": 4,
 "nbformat_minor": 5
}
