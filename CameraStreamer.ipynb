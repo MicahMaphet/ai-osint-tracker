{
 "cells": [
  {
   "cell_type": "code",
   "execution_count": null,
   "id": "f1959a3a",
   "metadata": {},
   "outputs": [],
   "source": [
    "playlist_urls = []\n",
    "for i in range(41):\n",
    "    playlist_urls.append(\\\n",
    "        f'https://sfs-msc-pub-lq-05.navigator.dot.ga.gov/rtplive/GDOT-CCTV-0'\n",
    "        f'{500 + i}/playlist.m3u8')\n",
    "playlist_urls"
   ]
  },
  {
   "cell_type": "code",
   "execution_count": null,
   "id": "60050446",
   "metadata": {},
   "outputs": [],
   "source": [
    "import urllib.request\n",
    "import requests\n",
    "import re\n",
    "import urllib\n",
    "from pathlib import Path\n",
    "import subprocess\n",
    "\n",
    "for url in playlist_urls:\n",
    "    base_url = url[:url.rfind('/') + 1]\n",
    "    playlist = requests.get(url).text\n",
    "    file_name = re.findall(r'chunklist_w.*?\\.m3u8', playlist)\n",
    "    if (len(file_name) == 0):\n",
    "        continue\n",
    "    file_name = file_name[-1]\n",
    "    chunklist_url = base_url + file_name\n",
    "    chunklist = requests.get(chunklist_url).text\n",
    "    media_files = re.findall(r'media_w.*?\\.ts', chunklist)\n",
    "    Path(f'rawmedia/{base_url[-3:]}/').mkdir(exist_ok=True, parents=True)\n",
    "    Path(f'media/{base_url[-3:]}/').mkdir(exist_ok=True, parents=True)\n",
    "    for media_file in media_files:\n",
    "        urllib.request.urlretrieve(base_url + media_file, f'rawmedia/{base_url[-3:]}/{media_file}')\n",
    "        subprocess.run(['ffmpeg', \n",
    "                        '-i', \n",
    "                        f'rawmedia/{base_url[-3:]}/{media_file}', \n",
    "                        f'media/{base_url[-3:]}/{media_file[:-3]}.mp4'])\n"
   ]
  }
 ],
 "metadata": {
  "kernelspec": {
   "display_name": ".venv",
   "language": "python",
   "name": "python3"
  },
  "language_info": {
   "codemirror_mode": {
    "name": "ipython",
    "version": 3
   },
   "file_extension": ".py",
   "mimetype": "text/x-python",
   "name": "python",
   "nbconvert_exporter": "python",
   "pygments_lexer": "ipython3",
   "version": "3.12.3"
  }
 },
 "nbformat": 4,
 "nbformat_minor": 5
}
